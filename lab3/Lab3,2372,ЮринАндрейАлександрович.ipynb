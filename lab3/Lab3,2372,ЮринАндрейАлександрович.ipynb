{
 "cells": [
  {
   "metadata": {},
   "cell_type": "markdown",
   "source": [
    "# Бронирование отелей. Исследование алгоритмов классификации\n",
    "Источник: https://www.kaggle.com/datasets/iremnurtokuroglu/credit-score-classification-cleaned-dataset/data"
   ],
   "id": "ed6b402eb4b44e19"
  },
  {
   "metadata": {
    "ExecuteTime": {
     "end_time": "2024-11-22T22:33:39.746235Z",
     "start_time": "2024-11-22T22:33:39.685310Z"
    }
   },
   "cell_type": "code",
   "source": [
    "import matplotlib.pyplot as plt\n",
    "import pandas as pd\n",
    "import seaborn as sns\n",
    "\n",
    "from imblearn.over_sampling import SMOTE\n",
    "from sklearn.model_selection import train_test_split\n",
    "from sklearn.neighbors import KNeighborsClassifier\n",
    "from sklearn.tree import DecisionTreeClassifier\n",
    "\n",
    "df = pd.read_csv(r'raw/hotel_reservations.csv')\n",
    "df.head(5)"
   ],
   "id": "da59d43e8f2a770f",
   "outputs": [
    {
     "data": {
      "text/plain": [
       "  Booking_ID  no_of_adults  no_of_children  no_of_weekend_nights  \\\n",
       "0   INN00001             2               0                     1   \n",
       "1   INN00002             2               0                     2   \n",
       "2   INN00003             1               0                     2   \n",
       "3   INN00004             2               0                     0   \n",
       "4   INN00005             2               0                     1   \n",
       "\n",
       "   no_of_week_nights type_of_meal_plan  required_car_parking_space  \\\n",
       "0                  2       Meal Plan 1                           0   \n",
       "1                  3      Not Selected                           0   \n",
       "2                  1       Meal Plan 1                           0   \n",
       "3                  2       Meal Plan 1                           0   \n",
       "4                  1      Not Selected                           0   \n",
       "\n",
       "  room_type_reserved  lead_time  arrival_year  arrival_month  arrival_date  \\\n",
       "0        Room_Type 1        224          2017             10             2   \n",
       "1        Room_Type 1          5          2018             11             6   \n",
       "2        Room_Type 1          1          2018              2            28   \n",
       "3        Room_Type 1        211          2018              5            20   \n",
       "4        Room_Type 1         48          2018              4            11   \n",
       "\n",
       "  market_segment_type  repeated_guest  no_of_previous_cancellations  \\\n",
       "0             Offline               0                             0   \n",
       "1              Online               0                             0   \n",
       "2              Online               0                             0   \n",
       "3              Online               0                             0   \n",
       "4              Online               0                             0   \n",
       "\n",
       "   no_of_previous_bookings_not_canceled  avg_price_per_room  \\\n",
       "0                                     0               65.00   \n",
       "1                                     0              106.68   \n",
       "2                                     0               60.00   \n",
       "3                                     0              100.00   \n",
       "4                                     0               94.50   \n",
       "\n",
       "   no_of_special_requests booking_status  \n",
       "0                       0   Not_Canceled  \n",
       "1                       1   Not_Canceled  \n",
       "2                       0       Canceled  \n",
       "3                       0       Canceled  \n",
       "4                       0       Canceled  "
      ],
      "text/html": [
       "<div>\n",
       "<style scoped>\n",
       "    .dataframe tbody tr th:only-of-type {\n",
       "        vertical-align: middle;\n",
       "    }\n",
       "\n",
       "    .dataframe tbody tr th {\n",
       "        vertical-align: top;\n",
       "    }\n",
       "\n",
       "    .dataframe thead th {\n",
       "        text-align: right;\n",
       "    }\n",
       "</style>\n",
       "<table border=\"1\" class=\"dataframe\">\n",
       "  <thead>\n",
       "    <tr style=\"text-align: right;\">\n",
       "      <th></th>\n",
       "      <th>Booking_ID</th>\n",
       "      <th>no_of_adults</th>\n",
       "      <th>no_of_children</th>\n",
       "      <th>no_of_weekend_nights</th>\n",
       "      <th>no_of_week_nights</th>\n",
       "      <th>type_of_meal_plan</th>\n",
       "      <th>required_car_parking_space</th>\n",
       "      <th>room_type_reserved</th>\n",
       "      <th>lead_time</th>\n",
       "      <th>arrival_year</th>\n",
       "      <th>arrival_month</th>\n",
       "      <th>arrival_date</th>\n",
       "      <th>market_segment_type</th>\n",
       "      <th>repeated_guest</th>\n",
       "      <th>no_of_previous_cancellations</th>\n",
       "      <th>no_of_previous_bookings_not_canceled</th>\n",
       "      <th>avg_price_per_room</th>\n",
       "      <th>no_of_special_requests</th>\n",
       "      <th>booking_status</th>\n",
       "    </tr>\n",
       "  </thead>\n",
       "  <tbody>\n",
       "    <tr>\n",
       "      <th>0</th>\n",
       "      <td>INN00001</td>\n",
       "      <td>2</td>\n",
       "      <td>0</td>\n",
       "      <td>1</td>\n",
       "      <td>2</td>\n",
       "      <td>Meal Plan 1</td>\n",
       "      <td>0</td>\n",
       "      <td>Room_Type 1</td>\n",
       "      <td>224</td>\n",
       "      <td>2017</td>\n",
       "      <td>10</td>\n",
       "      <td>2</td>\n",
       "      <td>Offline</td>\n",
       "      <td>0</td>\n",
       "      <td>0</td>\n",
       "      <td>0</td>\n",
       "      <td>65.00</td>\n",
       "      <td>0</td>\n",
       "      <td>Not_Canceled</td>\n",
       "    </tr>\n",
       "    <tr>\n",
       "      <th>1</th>\n",
       "      <td>INN00002</td>\n",
       "      <td>2</td>\n",
       "      <td>0</td>\n",
       "      <td>2</td>\n",
       "      <td>3</td>\n",
       "      <td>Not Selected</td>\n",
       "      <td>0</td>\n",
       "      <td>Room_Type 1</td>\n",
       "      <td>5</td>\n",
       "      <td>2018</td>\n",
       "      <td>11</td>\n",
       "      <td>6</td>\n",
       "      <td>Online</td>\n",
       "      <td>0</td>\n",
       "      <td>0</td>\n",
       "      <td>0</td>\n",
       "      <td>106.68</td>\n",
       "      <td>1</td>\n",
       "      <td>Not_Canceled</td>\n",
       "    </tr>\n",
       "    <tr>\n",
       "      <th>2</th>\n",
       "      <td>INN00003</td>\n",
       "      <td>1</td>\n",
       "      <td>0</td>\n",
       "      <td>2</td>\n",
       "      <td>1</td>\n",
       "      <td>Meal Plan 1</td>\n",
       "      <td>0</td>\n",
       "      <td>Room_Type 1</td>\n",
       "      <td>1</td>\n",
       "      <td>2018</td>\n",
       "      <td>2</td>\n",
       "      <td>28</td>\n",
       "      <td>Online</td>\n",
       "      <td>0</td>\n",
       "      <td>0</td>\n",
       "      <td>0</td>\n",
       "      <td>60.00</td>\n",
       "      <td>0</td>\n",
       "      <td>Canceled</td>\n",
       "    </tr>\n",
       "    <tr>\n",
       "      <th>3</th>\n",
       "      <td>INN00004</td>\n",
       "      <td>2</td>\n",
       "      <td>0</td>\n",
       "      <td>0</td>\n",
       "      <td>2</td>\n",
       "      <td>Meal Plan 1</td>\n",
       "      <td>0</td>\n",
       "      <td>Room_Type 1</td>\n",
       "      <td>211</td>\n",
       "      <td>2018</td>\n",
       "      <td>5</td>\n",
       "      <td>20</td>\n",
       "      <td>Online</td>\n",
       "      <td>0</td>\n",
       "      <td>0</td>\n",
       "      <td>0</td>\n",
       "      <td>100.00</td>\n",
       "      <td>0</td>\n",
       "      <td>Canceled</td>\n",
       "    </tr>\n",
       "    <tr>\n",
       "      <th>4</th>\n",
       "      <td>INN00005</td>\n",
       "      <td>2</td>\n",
       "      <td>0</td>\n",
       "      <td>1</td>\n",
       "      <td>1</td>\n",
       "      <td>Not Selected</td>\n",
       "      <td>0</td>\n",
       "      <td>Room_Type 1</td>\n",
       "      <td>48</td>\n",
       "      <td>2018</td>\n",
       "      <td>4</td>\n",
       "      <td>11</td>\n",
       "      <td>Online</td>\n",
       "      <td>0</td>\n",
       "      <td>0</td>\n",
       "      <td>0</td>\n",
       "      <td>94.50</td>\n",
       "      <td>0</td>\n",
       "      <td>Canceled</td>\n",
       "    </tr>\n",
       "  </tbody>\n",
       "</table>\n",
       "</div>"
      ]
     },
     "execution_count": 622,
     "metadata": {},
     "output_type": "execute_result"
    }
   ],
   "execution_count": 622
  },
  {
   "metadata": {
    "ExecuteTime": {
     "end_time": "2024-11-22T22:33:39.780659Z",
     "start_time": "2024-11-22T22:33:39.768929Z"
    }
   },
   "cell_type": "code",
   "source": "df.info()",
   "id": "e8393302204668ca",
   "outputs": [
    {
     "name": "stdout",
     "output_type": "stream",
     "text": [
      "<class 'pandas.core.frame.DataFrame'>\n",
      "RangeIndex: 36275 entries, 0 to 36274\n",
      "Data columns (total 19 columns):\n",
      " #   Column                                Non-Null Count  Dtype  \n",
      "---  ------                                --------------  -----  \n",
      " 0   Booking_ID                            36275 non-null  object \n",
      " 1   no_of_adults                          36275 non-null  int64  \n",
      " 2   no_of_children                        36275 non-null  int64  \n",
      " 3   no_of_weekend_nights                  36275 non-null  int64  \n",
      " 4   no_of_week_nights                     36275 non-null  int64  \n",
      " 5   type_of_meal_plan                     36275 non-null  object \n",
      " 6   required_car_parking_space            36275 non-null  int64  \n",
      " 7   room_type_reserved                    36275 non-null  object \n",
      " 8   lead_time                             36275 non-null  int64  \n",
      " 9   arrival_year                          36275 non-null  int64  \n",
      " 10  arrival_month                         36275 non-null  int64  \n",
      " 11  arrival_date                          36275 non-null  int64  \n",
      " 12  market_segment_type                   36275 non-null  object \n",
      " 13  repeated_guest                        36275 non-null  int64  \n",
      " 14  no_of_previous_cancellations          36275 non-null  int64  \n",
      " 15  no_of_previous_bookings_not_canceled  36275 non-null  int64  \n",
      " 16  avg_price_per_room                    36275 non-null  float64\n",
      " 17  no_of_special_requests                36275 non-null  int64  \n",
      " 18  booking_status                        36275 non-null  object \n",
      "dtypes: float64(1), int64(13), object(5)\n",
      "memory usage: 5.3+ MB\n"
     ]
    }
   ],
   "execution_count": 623
  },
  {
   "metadata": {
    "ExecuteTime": {
     "end_time": "2024-11-22T22:33:39.843225Z",
     "start_time": "2024-11-22T22:33:39.815644Z"
    }
   },
   "cell_type": "code",
   "source": "df.describe()",
   "id": "fbf178cb42bbb5a7",
   "outputs": [
    {
     "data": {
      "text/plain": [
       "       no_of_adults  no_of_children  no_of_weekend_nights  no_of_week_nights  \\\n",
       "count  36275.000000    36275.000000          36275.000000       36275.000000   \n",
       "mean       1.844962        0.105279              0.810724           2.204300   \n",
       "std        0.518715        0.402648              0.870644           1.410905   \n",
       "min        0.000000        0.000000              0.000000           0.000000   \n",
       "25%        2.000000        0.000000              0.000000           1.000000   \n",
       "50%        2.000000        0.000000              1.000000           2.000000   \n",
       "75%        2.000000        0.000000              2.000000           3.000000   \n",
       "max        4.000000       10.000000              7.000000          17.000000   \n",
       "\n",
       "       required_car_parking_space     lead_time  arrival_year  arrival_month  \\\n",
       "count                36275.000000  36275.000000  36275.000000   36275.000000   \n",
       "mean                     0.030986     85.232557   2017.820427       7.423653   \n",
       "std                      0.173281     85.930817      0.383836       3.069894   \n",
       "min                      0.000000      0.000000   2017.000000       1.000000   \n",
       "25%                      0.000000     17.000000   2018.000000       5.000000   \n",
       "50%                      0.000000     57.000000   2018.000000       8.000000   \n",
       "75%                      0.000000    126.000000   2018.000000      10.000000   \n",
       "max                      1.000000    443.000000   2018.000000      12.000000   \n",
       "\n",
       "       arrival_date  repeated_guest  no_of_previous_cancellations  \\\n",
       "count  36275.000000    36275.000000                  36275.000000   \n",
       "mean      15.596995        0.025637                      0.023349   \n",
       "std        8.740447        0.158053                      0.368331   \n",
       "min        1.000000        0.000000                      0.000000   \n",
       "25%        8.000000        0.000000                      0.000000   \n",
       "50%       16.000000        0.000000                      0.000000   \n",
       "75%       23.000000        0.000000                      0.000000   \n",
       "max       31.000000        1.000000                     13.000000   \n",
       "\n",
       "       no_of_previous_bookings_not_canceled  avg_price_per_room  \\\n",
       "count                          36275.000000        36275.000000   \n",
       "mean                               0.153411          103.423539   \n",
       "std                                1.754171           35.089424   \n",
       "min                                0.000000            0.000000   \n",
       "25%                                0.000000           80.300000   \n",
       "50%                                0.000000           99.450000   \n",
       "75%                                0.000000          120.000000   \n",
       "max                               58.000000          540.000000   \n",
       "\n",
       "       no_of_special_requests  \n",
       "count            36275.000000  \n",
       "mean                 0.619655  \n",
       "std                  0.786236  \n",
       "min                  0.000000  \n",
       "25%                  0.000000  \n",
       "50%                  0.000000  \n",
       "75%                  1.000000  \n",
       "max                  5.000000  "
      ],
      "text/html": [
       "<div>\n",
       "<style scoped>\n",
       "    .dataframe tbody tr th:only-of-type {\n",
       "        vertical-align: middle;\n",
       "    }\n",
       "\n",
       "    .dataframe tbody tr th {\n",
       "        vertical-align: top;\n",
       "    }\n",
       "\n",
       "    .dataframe thead th {\n",
       "        text-align: right;\n",
       "    }\n",
       "</style>\n",
       "<table border=\"1\" class=\"dataframe\">\n",
       "  <thead>\n",
       "    <tr style=\"text-align: right;\">\n",
       "      <th></th>\n",
       "      <th>no_of_adults</th>\n",
       "      <th>no_of_children</th>\n",
       "      <th>no_of_weekend_nights</th>\n",
       "      <th>no_of_week_nights</th>\n",
       "      <th>required_car_parking_space</th>\n",
       "      <th>lead_time</th>\n",
       "      <th>arrival_year</th>\n",
       "      <th>arrival_month</th>\n",
       "      <th>arrival_date</th>\n",
       "      <th>repeated_guest</th>\n",
       "      <th>no_of_previous_cancellations</th>\n",
       "      <th>no_of_previous_bookings_not_canceled</th>\n",
       "      <th>avg_price_per_room</th>\n",
       "      <th>no_of_special_requests</th>\n",
       "    </tr>\n",
       "  </thead>\n",
       "  <tbody>\n",
       "    <tr>\n",
       "      <th>count</th>\n",
       "      <td>36275.000000</td>\n",
       "      <td>36275.000000</td>\n",
       "      <td>36275.000000</td>\n",
       "      <td>36275.000000</td>\n",
       "      <td>36275.000000</td>\n",
       "      <td>36275.000000</td>\n",
       "      <td>36275.000000</td>\n",
       "      <td>36275.000000</td>\n",
       "      <td>36275.000000</td>\n",
       "      <td>36275.000000</td>\n",
       "      <td>36275.000000</td>\n",
       "      <td>36275.000000</td>\n",
       "      <td>36275.000000</td>\n",
       "      <td>36275.000000</td>\n",
       "    </tr>\n",
       "    <tr>\n",
       "      <th>mean</th>\n",
       "      <td>1.844962</td>\n",
       "      <td>0.105279</td>\n",
       "      <td>0.810724</td>\n",
       "      <td>2.204300</td>\n",
       "      <td>0.030986</td>\n",
       "      <td>85.232557</td>\n",
       "      <td>2017.820427</td>\n",
       "      <td>7.423653</td>\n",
       "      <td>15.596995</td>\n",
       "      <td>0.025637</td>\n",
       "      <td>0.023349</td>\n",
       "      <td>0.153411</td>\n",
       "      <td>103.423539</td>\n",
       "      <td>0.619655</td>\n",
       "    </tr>\n",
       "    <tr>\n",
       "      <th>std</th>\n",
       "      <td>0.518715</td>\n",
       "      <td>0.402648</td>\n",
       "      <td>0.870644</td>\n",
       "      <td>1.410905</td>\n",
       "      <td>0.173281</td>\n",
       "      <td>85.930817</td>\n",
       "      <td>0.383836</td>\n",
       "      <td>3.069894</td>\n",
       "      <td>8.740447</td>\n",
       "      <td>0.158053</td>\n",
       "      <td>0.368331</td>\n",
       "      <td>1.754171</td>\n",
       "      <td>35.089424</td>\n",
       "      <td>0.786236</td>\n",
       "    </tr>\n",
       "    <tr>\n",
       "      <th>min</th>\n",
       "      <td>0.000000</td>\n",
       "      <td>0.000000</td>\n",
       "      <td>0.000000</td>\n",
       "      <td>0.000000</td>\n",
       "      <td>0.000000</td>\n",
       "      <td>0.000000</td>\n",
       "      <td>2017.000000</td>\n",
       "      <td>1.000000</td>\n",
       "      <td>1.000000</td>\n",
       "      <td>0.000000</td>\n",
       "      <td>0.000000</td>\n",
       "      <td>0.000000</td>\n",
       "      <td>0.000000</td>\n",
       "      <td>0.000000</td>\n",
       "    </tr>\n",
       "    <tr>\n",
       "      <th>25%</th>\n",
       "      <td>2.000000</td>\n",
       "      <td>0.000000</td>\n",
       "      <td>0.000000</td>\n",
       "      <td>1.000000</td>\n",
       "      <td>0.000000</td>\n",
       "      <td>17.000000</td>\n",
       "      <td>2018.000000</td>\n",
       "      <td>5.000000</td>\n",
       "      <td>8.000000</td>\n",
       "      <td>0.000000</td>\n",
       "      <td>0.000000</td>\n",
       "      <td>0.000000</td>\n",
       "      <td>80.300000</td>\n",
       "      <td>0.000000</td>\n",
       "    </tr>\n",
       "    <tr>\n",
       "      <th>50%</th>\n",
       "      <td>2.000000</td>\n",
       "      <td>0.000000</td>\n",
       "      <td>1.000000</td>\n",
       "      <td>2.000000</td>\n",
       "      <td>0.000000</td>\n",
       "      <td>57.000000</td>\n",
       "      <td>2018.000000</td>\n",
       "      <td>8.000000</td>\n",
       "      <td>16.000000</td>\n",
       "      <td>0.000000</td>\n",
       "      <td>0.000000</td>\n",
       "      <td>0.000000</td>\n",
       "      <td>99.450000</td>\n",
       "      <td>0.000000</td>\n",
       "    </tr>\n",
       "    <tr>\n",
       "      <th>75%</th>\n",
       "      <td>2.000000</td>\n",
       "      <td>0.000000</td>\n",
       "      <td>2.000000</td>\n",
       "      <td>3.000000</td>\n",
       "      <td>0.000000</td>\n",
       "      <td>126.000000</td>\n",
       "      <td>2018.000000</td>\n",
       "      <td>10.000000</td>\n",
       "      <td>23.000000</td>\n",
       "      <td>0.000000</td>\n",
       "      <td>0.000000</td>\n",
       "      <td>0.000000</td>\n",
       "      <td>120.000000</td>\n",
       "      <td>1.000000</td>\n",
       "    </tr>\n",
       "    <tr>\n",
       "      <th>max</th>\n",
       "      <td>4.000000</td>\n",
       "      <td>10.000000</td>\n",
       "      <td>7.000000</td>\n",
       "      <td>17.000000</td>\n",
       "      <td>1.000000</td>\n",
       "      <td>443.000000</td>\n",
       "      <td>2018.000000</td>\n",
       "      <td>12.000000</td>\n",
       "      <td>31.000000</td>\n",
       "      <td>1.000000</td>\n",
       "      <td>13.000000</td>\n",
       "      <td>58.000000</td>\n",
       "      <td>540.000000</td>\n",
       "      <td>5.000000</td>\n",
       "    </tr>\n",
       "  </tbody>\n",
       "</table>\n",
       "</div>"
      ]
     },
     "execution_count": 624,
     "metadata": {},
     "output_type": "execute_result"
    }
   ],
   "execution_count": 624
  },
  {
   "metadata": {
    "ExecuteTime": {
     "end_time": "2024-11-22T22:33:39.936080Z",
     "start_time": "2024-11-22T22:33:39.930712Z"
    }
   },
   "cell_type": "code",
   "source": "df['type_of_meal_plan'].unique()",
   "id": "1a150f22ce6991b6",
   "outputs": [
    {
     "data": {
      "text/plain": [
       "array(['Meal Plan 1', 'Not Selected', 'Meal Plan 2', 'Meal Plan 3'],\n",
       "      dtype=object)"
      ]
     },
     "execution_count": 625,
     "metadata": {},
     "output_type": "execute_result"
    }
   ],
   "execution_count": 625
  },
  {
   "metadata": {
    "ExecuteTime": {
     "end_time": "2024-11-22T22:33:40.020711Z",
     "start_time": "2024-11-22T22:33:40.016357Z"
    }
   },
   "cell_type": "code",
   "source": "df['booking_status'].unique()",
   "id": "5679e5ac8534520c",
   "outputs": [
    {
     "data": {
      "text/plain": [
       "array(['Not_Canceled', 'Canceled'], dtype=object)"
      ]
     },
     "execution_count": 626,
     "metadata": {},
     "output_type": "execute_result"
    }
   ],
   "execution_count": 626
  },
  {
   "metadata": {
    "ExecuteTime": {
     "end_time": "2024-11-22T22:33:40.108430Z",
     "start_time": "2024-11-22T22:33:40.104015Z"
    }
   },
   "cell_type": "code",
   "source": "df['room_type_reserved'].unique()",
   "id": "8da306b46cc631ab",
   "outputs": [
    {
     "data": {
      "text/plain": [
       "array(['Room_Type 1', 'Room_Type 4', 'Room_Type 2', 'Room_Type 6',\n",
       "       'Room_Type 5', 'Room_Type 7', 'Room_Type 3'], dtype=object)"
      ]
     },
     "execution_count": 627,
     "metadata": {},
     "output_type": "execute_result"
    }
   ],
   "execution_count": 627
  },
  {
   "metadata": {
    "ExecuteTime": {
     "end_time": "2024-11-22T22:33:40.233158Z",
     "start_time": "2024-11-22T22:33:40.226760Z"
    }
   },
   "cell_type": "code",
   "source": "df['market_segment_type'].unique()",
   "id": "85e6389306cfd130",
   "outputs": [
    {
     "data": {
      "text/plain": [
       "array(['Offline', 'Online', 'Corporate', 'Aviation', 'Complementary'],\n",
       "      dtype=object)"
      ]
     },
     "execution_count": 628,
     "metadata": {},
     "output_type": "execute_result"
    }
   ],
   "execution_count": 628
  },
  {
   "metadata": {
    "ExecuteTime": {
     "end_time": "2024-11-22T22:33:40.296197Z",
     "start_time": "2024-11-22T22:33:40.277901Z"
    }
   },
   "cell_type": "code",
   "source": [
    "df.drop('Booking_ID', axis=1, inplace=True)\n",
    "\n",
    "maps = {\n",
    "    'type_of_meal_plan': {'Not Selected': 0, 'Meal Plan 1': 1, 'Meal Plan 2': 2, 'Meal Plan 3': 3},\n",
    "    'booking_status': {'Canceled': 0, 'Not_Canceled': 1},\n",
    "    'room_type_reserved': {'Room_Type 1': 1, 'Room_Type 2': 2, 'Room_Type 3': 3, 'Room_Type 4': 4, 'Room_Type 5': 5,\n",
    "                           'Room_Type 6': 6, 'Room_Type 7': 7},\n",
    "    'market_segment_type': {'Online': 0, 'Offline': 1, 'Corporate': 2, 'Aviation': 3, 'Complementary': 4}\n",
    "}\n",
    "\n",
    "for col, mapping in maps.items():\n",
    "    df[col] = df[col].map(mapping)\n",
    "\n",
    "df.sample(5)"
   ],
   "id": "e974fa8580e997f7",
   "outputs": [
    {
     "data": {
      "text/plain": [
       "       no_of_adults  no_of_children  no_of_weekend_nights  no_of_week_nights  \\\n",
       "6565              2               0                     1                  3   \n",
       "22931             1               0                     0                  3   \n",
       "17170             2               0                     0                  2   \n",
       "3860              2               0                     1                  1   \n",
       "14021             2               0                     1                  1   \n",
       "\n",
       "       type_of_meal_plan  required_car_parking_space  room_type_reserved  \\\n",
       "6565                   1                           0                   1   \n",
       "22931                  1                           0                   1   \n",
       "17170                  2                           0                   1   \n",
       "3860                   1                           0                   1   \n",
       "14021                  0                           0                   1   \n",
       "\n",
       "       lead_time  arrival_year  arrival_month  arrival_date  \\\n",
       "6565           5          2017             12            14   \n",
       "22931         71          2018              6            14   \n",
       "17170        265          2018              6            24   \n",
       "3860          28          2017             10            12   \n",
       "14021          5          2018              9            17   \n",
       "\n",
       "       market_segment_type  repeated_guest  no_of_previous_cancellations  \\\n",
       "6565                     1               0                             0   \n",
       "22931                    1               0                             0   \n",
       "17170                    1               0                             0   \n",
       "3860                     0               0                             0   \n",
       "14021                    0               0                             0   \n",
       "\n",
       "       no_of_previous_bookings_not_canceled  avg_price_per_room  \\\n",
       "6565                                      0               58.00   \n",
       "22931                                     0              120.00   \n",
       "17170                                     0              115.00   \n",
       "3860                                      0              110.65   \n",
       "14021                                     0              154.00   \n",
       "\n",
       "       no_of_special_requests  booking_status  \n",
       "6565                        0               1  \n",
       "22931                       0               1  \n",
       "17170                       1               0  \n",
       "3860                        2               1  \n",
       "14021                       4               1  "
      ],
      "text/html": [
       "<div>\n",
       "<style scoped>\n",
       "    .dataframe tbody tr th:only-of-type {\n",
       "        vertical-align: middle;\n",
       "    }\n",
       "\n",
       "    .dataframe tbody tr th {\n",
       "        vertical-align: top;\n",
       "    }\n",
       "\n",
       "    .dataframe thead th {\n",
       "        text-align: right;\n",
       "    }\n",
       "</style>\n",
       "<table border=\"1\" class=\"dataframe\">\n",
       "  <thead>\n",
       "    <tr style=\"text-align: right;\">\n",
       "      <th></th>\n",
       "      <th>no_of_adults</th>\n",
       "      <th>no_of_children</th>\n",
       "      <th>no_of_weekend_nights</th>\n",
       "      <th>no_of_week_nights</th>\n",
       "      <th>type_of_meal_plan</th>\n",
       "      <th>required_car_parking_space</th>\n",
       "      <th>room_type_reserved</th>\n",
       "      <th>lead_time</th>\n",
       "      <th>arrival_year</th>\n",
       "      <th>arrival_month</th>\n",
       "      <th>arrival_date</th>\n",
       "      <th>market_segment_type</th>\n",
       "      <th>repeated_guest</th>\n",
       "      <th>no_of_previous_cancellations</th>\n",
       "      <th>no_of_previous_bookings_not_canceled</th>\n",
       "      <th>avg_price_per_room</th>\n",
       "      <th>no_of_special_requests</th>\n",
       "      <th>booking_status</th>\n",
       "    </tr>\n",
       "  </thead>\n",
       "  <tbody>\n",
       "    <tr>\n",
       "      <th>6565</th>\n",
       "      <td>2</td>\n",
       "      <td>0</td>\n",
       "      <td>1</td>\n",
       "      <td>3</td>\n",
       "      <td>1</td>\n",
       "      <td>0</td>\n",
       "      <td>1</td>\n",
       "      <td>5</td>\n",
       "      <td>2017</td>\n",
       "      <td>12</td>\n",
       "      <td>14</td>\n",
       "      <td>1</td>\n",
       "      <td>0</td>\n",
       "      <td>0</td>\n",
       "      <td>0</td>\n",
       "      <td>58.00</td>\n",
       "      <td>0</td>\n",
       "      <td>1</td>\n",
       "    </tr>\n",
       "    <tr>\n",
       "      <th>22931</th>\n",
       "      <td>1</td>\n",
       "      <td>0</td>\n",
       "      <td>0</td>\n",
       "      <td>3</td>\n",
       "      <td>1</td>\n",
       "      <td>0</td>\n",
       "      <td>1</td>\n",
       "      <td>71</td>\n",
       "      <td>2018</td>\n",
       "      <td>6</td>\n",
       "      <td>14</td>\n",
       "      <td>1</td>\n",
       "      <td>0</td>\n",
       "      <td>0</td>\n",
       "      <td>0</td>\n",
       "      <td>120.00</td>\n",
       "      <td>0</td>\n",
       "      <td>1</td>\n",
       "    </tr>\n",
       "    <tr>\n",
       "      <th>17170</th>\n",
       "      <td>2</td>\n",
       "      <td>0</td>\n",
       "      <td>0</td>\n",
       "      <td>2</td>\n",
       "      <td>2</td>\n",
       "      <td>0</td>\n",
       "      <td>1</td>\n",
       "      <td>265</td>\n",
       "      <td>2018</td>\n",
       "      <td>6</td>\n",
       "      <td>24</td>\n",
       "      <td>1</td>\n",
       "      <td>0</td>\n",
       "      <td>0</td>\n",
       "      <td>0</td>\n",
       "      <td>115.00</td>\n",
       "      <td>1</td>\n",
       "      <td>0</td>\n",
       "    </tr>\n",
       "    <tr>\n",
       "      <th>3860</th>\n",
       "      <td>2</td>\n",
       "      <td>0</td>\n",
       "      <td>1</td>\n",
       "      <td>1</td>\n",
       "      <td>1</td>\n",
       "      <td>0</td>\n",
       "      <td>1</td>\n",
       "      <td>28</td>\n",
       "      <td>2017</td>\n",
       "      <td>10</td>\n",
       "      <td>12</td>\n",
       "      <td>0</td>\n",
       "      <td>0</td>\n",
       "      <td>0</td>\n",
       "      <td>0</td>\n",
       "      <td>110.65</td>\n",
       "      <td>2</td>\n",
       "      <td>1</td>\n",
       "    </tr>\n",
       "    <tr>\n",
       "      <th>14021</th>\n",
       "      <td>2</td>\n",
       "      <td>0</td>\n",
       "      <td>1</td>\n",
       "      <td>1</td>\n",
       "      <td>0</td>\n",
       "      <td>0</td>\n",
       "      <td>1</td>\n",
       "      <td>5</td>\n",
       "      <td>2018</td>\n",
       "      <td>9</td>\n",
       "      <td>17</td>\n",
       "      <td>0</td>\n",
       "      <td>0</td>\n",
       "      <td>0</td>\n",
       "      <td>0</td>\n",
       "      <td>154.00</td>\n",
       "      <td>4</td>\n",
       "      <td>1</td>\n",
       "    </tr>\n",
       "  </tbody>\n",
       "</table>\n",
       "</div>"
      ]
     },
     "execution_count": 629,
     "metadata": {},
     "output_type": "execute_result"
    }
   ],
   "execution_count": 629
  },
  {
   "metadata": {
    "jupyter": {
     "is_executing": true
    },
    "ExecuteTime": {
     "start_time": "2024-11-22T22:33:40.347645Z"
    }
   },
   "cell_type": "code",
   "source": [
    "ax = sns.countplot(data=df, x='booking_status').set_title('Распределение \"booking_status\"')\n",
    "print(df['booking_status'].value_counts())"
   ],
   "id": "aabaf7dbc25f7aca",
   "outputs": [],
   "execution_count": null
  },
  {
   "metadata": {
    "ExecuteTime": {
     "end_time": "2024-11-22T22:24:53.938241Z",
     "start_time": "2024-11-22T22:24:53.465440Z"
    }
   },
   "cell_type": "code",
   "source": [
    "# Over sampling.\n",
    "smote = SMOTE(random_state=1)\n",
    "x = df.drop('booking_status', axis=1)\n",
    "y = df['booking_status']\n",
    "x_smote, y_smote = smote.fit_resample(x, y)\n",
    "df_over_sampled = pd.concat([pd.DataFrame(x_smote), pd.DataFrame(y_smote, columns=['booking_status'])], axis=1)"
   ],
   "id": "c7d22dfd7401a5fd",
   "outputs": [],
   "execution_count": 614
  },
  {
   "metadata": {
    "ExecuteTime": {
     "end_time": "2024-11-22T22:24:53.952756Z",
     "start_time": "2024-11-22T22:24:53.948296Z"
    }
   },
   "cell_type": "code",
   "source": "print(df_over_sampled['booking_status'].value_counts())",
   "id": "1e21e7e1254970b1",
   "outputs": [
    {
     "name": "stdout",
     "output_type": "stream",
     "text": [
      "booking_status\n",
      "1    24390\n",
      "0    24390\n",
      "Name: count, dtype: int64\n"
     ]
    }
   ],
   "execution_count": 615
  },
  {
   "metadata": {},
   "cell_type": "markdown",
   "source": "",
   "id": "8d87614d2f1c2df7"
  },
  {
   "metadata": {
    "ExecuteTime": {
     "end_time": "2024-11-22T22:24:53.985516Z",
     "start_time": "2024-11-22T22:24:53.979552Z"
    }
   },
   "cell_type": "code",
   "source": [
    "from sklearn.metrics import (\n",
    "    confusion_matrix,\n",
    "    accuracy_score, roc_auc_score,\n",
    "    precision_score, recall_score, f1_score\n",
    ")\n",
    "\n",
    "\n",
    "def show_metrics(y_test, knn_pred):\n",
    "    sns.heatmap(confusion_matrix(y_test, knn_pred), annot=True, fmt='d', cbar=False)\n",
    "    plt.xlabel('Predicted')\n",
    "    plt.ylabel('Actual')\n",
    "    plt.show()\n",
    "\n",
    "    accuracy = round(accuracy_score(y_test, knn_pred), 3)\n",
    "    precision = round(precision_score(y_test, knn_pred), 3)\n",
    "    recall = round(recall_score(y_test, knn_pred), 3)\n",
    "    f1 = round(f1_score(y_test, knn_pred), 3)\n",
    "    roc = round(roc_auc_score(y_test, knn_pred), 3)\n",
    "    m_df = pd.DataFrame({\n",
    "        'Metric': ['accuracy', 'precision', 'recall', 'f1', 'roc'],\n",
    "        'Score': [accuracy, precision, recall, f1, roc]\n",
    "    })\n",
    "    print(m_df.to_string(index=False))"
   ],
   "id": "55b2bbf399e5a34d",
   "outputs": [],
   "execution_count": 616
  },
  {
   "metadata": {
    "ExecuteTime": {
     "end_time": "2024-11-22T22:24:54.016516Z",
     "start_time": "2024-11-22T22:24:54.011454Z"
    }
   },
   "cell_type": "code",
   "source": [
    "def best_k(x_train, x_test, y_train, y_test, max_k):\n",
    "    scores = []\n",
    "    for k in range(1, max_k + 1):\n",
    "        knn = KNeighborsClassifier(n_neighbors=k)\n",
    "        knn.fit(x_train, y_train)\n",
    "        knn_pred = knn.predict(x_test)\n",
    "        scores.append(accuracy_score(y_test, knn_pred))\n",
    "    result_k = scores.index(max(scores)) + 1\n",
    "    return result_k\n",
    "\n",
    "\n",
    "def get_knn(x_train, x_test, y_train, y_test, max_k):\n",
    "    k = best_k(x_train, x_test, y_train, y_test, max_k)\n",
    "    knn = KNeighborsClassifier(n_neighbors=k)\n",
    "    knn.fit(x_train, y_train)\n",
    "    knn_pred = knn.predict(x_test)\n",
    "\n",
    "    print(f'kNN with k={k}')\n",
    "    show_metrics(y_test, knn_pred)\n",
    "\n",
    "    return knn\n",
    "\n",
    "\n",
    "def res_knn(dataframe: pd.DataFrame, target_name: str, max_k: int):\n",
    "    x_train, x_test, y_train, y_test = train_test_split(\n",
    "        dataframe.drop(target_name, axis=1),\n",
    "        dataframe[target_name],\n",
    "        test_size=0.2,\n",
    "        random_state=0\n",
    "    )\n",
    "    get_knn(x_train, x_test, y_train, y_test, max_k)"
   ],
   "id": "3ffcd2bd8cbfc031",
   "outputs": [],
   "execution_count": 617
  },
  {
   "metadata": {
    "ExecuteTime": {
     "end_time": "2024-11-22T22:25:10.604519Z",
     "start_time": "2024-11-22T22:24:54.033512Z"
    }
   },
   "cell_type": "code",
   "source": [
    "print(f'KNN for not balanced DataFrame (shape: {df.shape})')\n",
    "res_knn(df, 'booking_status', 20)\n",
    "\n",
    "print(f'\\n\\nKNN for over-sampled DF (shape: {df_over_sampled.shape})')\n",
    "res_knn(df_over_sampled, 'booking_status', 10)"
   ],
   "id": "550415ca76bf4cd9",
   "outputs": [
    {
     "name": "stdout",
     "output_type": "stream",
     "text": [
      "KNN for not balanced DataFrame (shape: (36275, 18))\n",
      "kNN with k=11\n"
     ]
    },
    {
     "data": {
      "text/plain": [
       "<Figure size 640x480 with 1 Axes>"
      ],
      "image/png": "[encoded data removed]"
     },
     "metadata": {},
     "output_type": "display_data"
    },
    {
     "name": "stdout",
     "output_type": "stream",
     "text": [
      "   Metric  Score\n",
      " accuracy  0.805\n",
      "precision  0.814\n",
      "   recall  0.919\n",
      "       f1  0.863\n",
      "      roc  0.747\n",
      "\n",
      "\n",
      "KNN for over-sampled DF (shape: (48780, 18))\n",
      "kNN with k=1\n"
     ]
    },
    {
     "data": {
      "text/plain": [
       "<Figure size 640x480 with 1 Axes>"
      ],
      "image/png": "[encoded data removed]"
     },
     "metadata": {},
     "output_type": "display_data"
    },
    {
     "name": "stdout",
     "output_type": "stream",
     "text": [
      "   Metric  Score\n",
      " accuracy  0.868\n",
      "precision  0.910\n",
      "   recall  0.815\n",
      "       f1  0.860\n",
      "      roc  0.867\n"
     ]
    }
   ],
   "execution_count": 618
  },
  {
   "metadata": {
    "ExecuteTime": {
     "end_time": "2024-11-22T22:25:10.631322Z",
     "start_time": "2024-11-22T22:25:10.626211Z"
    }
   },
   "cell_type": "code",
   "source": [
    "def get_dt(x_train, x_test, y_train, y_test):\n",
    "    dt = DecisionTreeClassifier()\n",
    "    dt.fit(x_train, y_train)\n",
    "    dt_pred = dt.predict(x_test)\n",
    "    \n",
    "    print(f'Decision Tree results:')\n",
    "    show_metrics(y_test, dt_pred)\n",
    "    \n",
    "    return dt\n",
    "\n",
    "def res_dt(dataframe: pd.DataFrame, target_name: str):\n",
    "    x_train, x_test, y_train, y_test = train_test_split(\n",
    "        dataframe.drop(target_name, axis=1),\n",
    "        dataframe[target_name],\n",
    "        test_size=0.2,\n",
    "        random_state=0\n",
    "    )\n",
    "    get_dt(x_train, x_test, y_train, y_test)"
   ],
   "id": "f623a5c9361f43a3",
   "outputs": [],
   "execution_count": 619
  },
  {
   "metadata": {
    "ExecuteTime": {
     "end_time": "2024-11-22T22:25:36.898348Z",
     "start_time": "2024-11-22T22:25:36.509481Z"
    }
   },
   "cell_type": "code",
   "source": [
    "print(f'DT for not balanced DF (shape: {df.shape})')\n",
    "res_dt(df, 'booking_status')\n",
    "\n",
    "print(f'\\n\\nDT for over-sampled DF (shape: {df_over_sampled.shape})')\n",
    "res_dt(df_over_sampled, 'booking_status')"
   ],
   "id": "cfca7f902ed5b780",
   "outputs": [
    {
     "name": "stdout",
     "output_type": "stream",
     "text": [
      "DT for not balanced DF (shape: (36275, 18))\n",
      "Decision Tree results:\n"
     ]
    },
    {
     "data": {
      "text/plain": [
       "<Figure size 640x480 with 1 Axes>"
      ],
      "image/png": "[encoded data removed]"
     },
     "metadata": {},
     "output_type": "display_data"
    },
    {
     "name": "stdout",
     "output_type": "stream",
     "text": [
      "   Metric  Score\n",
      " accuracy  0.868\n",
      "precision  0.900\n",
      "   recall  0.903\n",
      "       f1  0.901\n",
      "      roc  0.850\n",
      "\n",
      "\n",
      "DT for over-sampled DF (shape: (48780, 18))\n",
      "Decision Tree results:\n"
     ]
    },
    {
     "data": {
      "text/plain": [
       "<Figure size 640x480 with 1 Axes>"
      ],
      "image/png": "[encoded data removed]"
     },
     "metadata": {},
     "output_type": "display_data"
    },
    {
     "name": "stdout",
     "output_type": "stream",
     "text": [
      "   Metric  Score\n",
      " accuracy  0.893\n",
      "precision  0.899\n",
      "   recall  0.884\n",
      "       f1  0.891\n",
      "      roc  0.893\n"
     ]
    }
   ],
   "execution_count": 621
  },
  {
   "metadata": {},
   "cell_type": "markdown",
   "source": [
    "\n",
    "\n",
    "| Метрика   | Not Balanced KNN | Over-Samlped KNN | Not Balanced DT | Over-Samlped DT |\n",
    "|-----------|------------------|------------------|-----------------|-----------------|\n",
    "| Accuracy  | 0.805            | 0.868            | 0.868           | 0.893           |\n",
    "| Precision | 0.814            | 0.910            | 0.900           | 0.899           |\n",
    "| Recall    | 0.919            | 0.815            | 0.903           | 0.884           |\n",
    "| F1        | 0.863            | 0.860            | 0.901           | 0.891           |\n",
    "| ROC       | 0.747            | 0.867            | 0.850           | 0.893           |"
   ],
   "id": "9dfcc43ccd727604"
  }
 ],
 "metadata": {
  "kernelspec": {
   "display_name": "Python 3",
   "language": "python",
   "name": "python3"
  },
  "language_info": {
   "codemirror_mode": {
    "name": "ipython",
    "version": 2
   },
   "file_extension": ".py",
   "mimetype": "text/x-python",
   "name": "python",
   "nbconvert_exporter": "python",
   "pygments_lexer": "ipython2",
   "version": "2.7.6"
  }
 },
 "nbformat": 4,
 "nbformat_minor": 5
}
